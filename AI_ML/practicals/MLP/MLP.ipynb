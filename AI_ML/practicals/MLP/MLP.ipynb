{
  "nbformat": 4,
  "nbformat_minor": 0,
  "metadata": {
    "colab": {
      "provenance": []
    },
    "kernelspec": {
      "name": "python3",
      "display_name": "Python 3"
    },
    "language_info": {
      "name": "python"
    }
  },
  "cells": [
    {
      "cell_type": "code",
      "source": [
        "import numpy as np\n",
        "import pandas as pd\n",
        "from sklearn.model_selection import train_test_split\n",
        "from sklearn.preprocessing import StandardScaler\n",
        "from sklearn.neural_network import MLPClassifier\n",
        "from sklearn.metrics import accuracy_score, confusion_matrix, mean_squared_error, mean_absolute_error, r2_score\n",
        "import time"
      ],
      "metadata": {
        "id": "_0EVkrJZFCLJ"
      },
      "execution_count": 24,
      "outputs": []
    },
    {
      "cell_type": "code",
      "source": [
        "def getData():\n",
        "  # Load the dataset\n",
        "  url = \"https://raw.githubusercontent.com/jbrownlee/Datasets/master/pima-indians-diabetes.data.csv\"\n",
        "  names = ['Pregnancies', 'Glucose', 'BloodPressure', 'SkinThickness', 'Insulin', 'BMI', 'DiabetesPedigreeFunction', 'Age', 'Outcome']\n",
        "  dataset = pd.read_csv(url, names=names)\n",
        "\n",
        "  # Replace zeros with NaN and then fill with the mean\n",
        "  dataset[['Glucose', 'BloodPressure', 'SkinThickness', 'Insulin', 'BMI']] = dataset[['Glucose', 'BloodPressure', 'SkinThickness', 'Insulin', 'BMI']].replace(0, np.NaN)\n",
        "  dataset.fillna(dataset.mean(), inplace=True)\n",
        "\n",
        "  # Split the dataset into features and target\n",
        "  X = dataset.drop('Outcome', axis=1)\n",
        "  y = dataset['Outcome']\n",
        "\n",
        "  # Standardize the features\n",
        "  scaler = StandardScaler()\n",
        "  X = scaler.fit_transform(X)\n",
        "\n",
        "  return X, y"
      ],
      "metadata": {
        "id": "hDkaixEuFE6G"
      },
      "execution_count": 25,
      "outputs": []
    },
    {
      "cell_type": "code",
      "source": [
        "def getScores(y_test, y_pred):\n",
        "    # Calculate evaluation metrics\n",
        "    accuracy = accuracy_score(y_test, y_pred)\n",
        "    cm = confusion_matrix(y_test, y_pred)\n",
        "    sensitivity = cm[1, 1] / (cm[1, 0] + cm[1, 1])\n",
        "    specificity = cm[0, 0] / (cm[0, 0] + cm[0, 1])\n",
        "    ppv = cm[1, 1] / (cm[0, 1] + cm[1, 1])\n",
        "    rmse = np.sqrt(mean_squared_error(y_test, y_pred))\n",
        "    mae = mean_absolute_error(y_test, y_pred)\n",
        "    mdae = np.median(np.abs(y_test - y_pred))\n",
        "    r2 = r2_score(y_test, y_pred)\n",
        "\n",
        "    return accuracy, sensitivity, specificity, ppv, rmse, mae, mdae, r2"
      ],
      "metadata": {
        "id": "ZQdbbHDtGCfU"
      },
      "execution_count": 29,
      "outputs": []
    },
    {
      "cell_type": "code",
      "source": [],
      "metadata": {
        "id": "VloFWidJHCEZ"
      },
      "execution_count": null,
      "outputs": []
    },
    {
      "cell_type": "code",
      "source": [
        "def get_table(table):\n",
        "\n",
        "    # Create a pandas DataFrame\n",
        "    df = pd.DataFrame(table).T\n",
        "\n",
        "    # Use pandas styling for a nice table display\n",
        "    styled_df = df.style.set_table_styles(\n",
        "        [{'selector': 'thead th',\n",
        "          'props': [('background-color', '#4CAF50'),\n",
        "                    ('color', 'white'),\n",
        "                    ('font-weight', 'bold')]},\n",
        "        {'selector': 'tbody tr:nth-child(odd)',\n",
        "          'props': [('background-color', '#f2f2f2')]},\n",
        "        {'selector': 'tbody tr:nth-child(even)',\n",
        "          'props': [('background-color', '#ffffff')]},\n",
        "          {'selector': 'td', 'props': [('text-align', 'left')]}]\n",
        "    )\n",
        "\n",
        "    # Display the table\n",
        "    return(styled_df.hide(axis=\"index\"))"
      ],
      "metadata": {
        "id": "SssZ3wqJGcMd"
      },
      "execution_count": 49,
      "outputs": []
    },
    {
      "cell_type": "code",
      "source": [
        "X, y = getData()\n",
        "dataset_sizes = [0.2, 0.4, 0.6, 0.8, 1.0]\n",
        "results = []\n",
        "results.append(['Size', 'Training Time', 'Testing Time', 'Accuracy', 'Sensitivity', 'Specificity', 'PPV', 'RMSE', 'MAE', 'MdAE', 'R2 Score'])\n",
        "\n",
        "mlp = MLPClassifier(hidden_layer_sizes=(10, 10), max_iter=1000, random_state=42)\n",
        "\n",
        "for size in dataset_sizes:\n",
        "    X_train, X_test, y_train, y_test = train_test_split(X, y, train_size=(0.7*size), random_state=42)\n",
        "\n",
        "    # training time\n",
        "    start_time = time.time()\n",
        "    mlp.fit(X_train, y_train)\n",
        "    training_time = time.time() - start_time\n",
        "\n",
        "    # testing time\n",
        "    start_time = time.time()\n",
        "    y_pred = mlp.predict(X_test)\n",
        "    testing_time = time.time() - start_time\n",
        "\n",
        "    accuracy, sensitivity, specificity, ppv, rmse, mae, mdae, r2 = getScores(y_test, y_pred)\n",
        "\n",
        "    results.append([str(size), training_time, testing_time, accuracy, sensitivity, specificity, ppv, rmse, mae, mdae, r2])\n",
        "    print(f\"\\nResults for {int(size * 100)}% of the dataset:\")\n",
        "    print(\"----------------------------------------------------\")\n",
        "    print(f\"Training Time: {training_time:.4f} seconds\")\n",
        "    print(f\"Testing Time: {testing_time:.4f} seconds\")\n",
        "    print(f\"Accuracy: {accuracy:.4f}\")\n",
        "    print(f\"Sensitivity (Recall): {sensitivity:.4f}\")\n",
        "    print(f\"Specificity: {specificity:.4f}\")\n",
        "    print(f\"Positive Predictive Value (PPV): {ppv:.4f}\")\n",
        "    print(f\"R^2 Score: {r2:.4f}\")\n",
        "    print(f\"Root Mean Squared Error (RMSE): {rmse:.4f}\")\n",
        "    print(f\"Mean Absolute Error (MAE): {mae:.4f}\")\n",
        "    print(f\"Median Absolute Error (MdAE): {mdae:.4f}\")\n",
        "    print(\"----------------------------------------------------\")\n",
        "\n",
        "\n",
        "get_table(results)"
      ],
      "metadata": {
        "colab": {
          "base_uri": "https://localhost:8080/",
          "height": 1000
        },
        "id": "DX1PmHA8EhHX",
        "outputId": "d9b42826-7230-4c6e-c9cc-59a6ba72e697"
      },
      "execution_count": 55,
      "outputs": [
        {
          "output_type": "stream",
          "name": "stderr",
          "text": [
            "/usr/local/lib/python3.11/dist-packages/sklearn/neural_network/_multilayer_perceptron.py:691: ConvergenceWarning: Stochastic Optimizer: Maximum iterations (1000) reached and the optimization hasn't converged yet.\n",
            "  warnings.warn(\n"
          ]
        },
        {
          "output_type": "stream",
          "name": "stdout",
          "text": [
            "\n",
            "Results for 20% of the dataset:\n",
            "----------------------------------------------------\n",
            "Training Time: 0.4971 seconds\n",
            "Testing Time: 0.0014 seconds\n",
            "Accuracy: 0.7383\n",
            "Sensitivity (Recall): 0.6579\n",
            "Specificity: 0.7806\n",
            "Positive Predictive Value (PPV): 0.6122\n",
            "R^2 Score: -0.1583\n",
            "Root Mean Squared Error (RMSE): 0.5116\n",
            "Mean Absolute Error (MAE): 0.2617\n",
            "Median Absolute Error (MdAE): 0.0000\n",
            "----------------------------------------------------\n",
            "\n",
            "Results for 40% of the dataset:\n",
            "----------------------------------------------------\n",
            "Training Time: 0.7442 seconds\n",
            "Testing Time: 0.0005 seconds\n",
            "Accuracy: 0.7215\n",
            "Sensitivity (Recall): 0.5677\n",
            "Specificity: 0.8033\n",
            "Positive Predictive Value (PPV): 0.6056\n",
            "R^2 Score: -0.2287\n",
            "Root Mean Squared Error (RMSE): 0.5277\n",
            "Mean Absolute Error (MAE): 0.2785\n",
            "Median Absolute Error (MdAE): 0.0000\n",
            "----------------------------------------------------\n"
          ]
        },
        {
          "output_type": "stream",
          "name": "stderr",
          "text": [
            "/usr/local/lib/python3.11/dist-packages/sklearn/neural_network/_multilayer_perceptron.py:691: ConvergenceWarning: Stochastic Optimizer: Maximum iterations (1000) reached and the optimization hasn't converged yet.\n",
            "  warnings.warn(\n"
          ]
        },
        {
          "output_type": "stream",
          "name": "stdout",
          "text": [
            "\n",
            "Results for 60% of the dataset:\n",
            "----------------------------------------------------\n",
            "Training Time: 1.0101 seconds\n",
            "Testing Time: 0.0013 seconds\n",
            "Accuracy: 0.7309\n",
            "Sensitivity (Recall): 0.5871\n",
            "Specificity: 0.8076\n",
            "Positive Predictive Value (PPV): 0.6190\n",
            "R^2 Score: -0.1866\n",
            "Root Mean Squared Error (RMSE): 0.5187\n",
            "Mean Absolute Error (MAE): 0.2691\n",
            "Median Absolute Error (MdAE): 0.0000\n",
            "----------------------------------------------------\n"
          ]
        },
        {
          "output_type": "stream",
          "name": "stderr",
          "text": [
            "/usr/local/lib/python3.11/dist-packages/sklearn/neural_network/_multilayer_perceptron.py:691: ConvergenceWarning: Stochastic Optimizer: Maximum iterations (1000) reached and the optimization hasn't converged yet.\n",
            "  warnings.warn(\n"
          ]
        },
        {
          "output_type": "stream",
          "name": "stdout",
          "text": [
            "\n",
            "Results for 80% of the dataset:\n",
            "----------------------------------------------------\n",
            "Training Time: 1.4704 seconds\n",
            "Testing Time: 0.0014 seconds\n",
            "Accuracy: 0.7604\n",
            "Sensitivity (Recall): 0.7105\n",
            "Specificity: 0.7857\n",
            "Positive Predictive Value (PPV): 0.6279\n",
            "R^2 Score: -0.0721\n",
            "Root Mean Squared Error (RMSE): 0.4895\n",
            "Mean Absolute Error (MAE): 0.2396\n",
            "Median Absolute Error (MdAE): 0.0000\n",
            "----------------------------------------------------\n",
            "\n",
            "Results for 100% of the dataset:\n",
            "----------------------------------------------------\n",
            "Training Time: 1.5002 seconds\n",
            "Testing Time: 0.0013 seconds\n",
            "Accuracy: 0.7273\n",
            "Sensitivity (Recall): 0.6375\n",
            "Specificity: 0.7748\n",
            "Positive Predictive Value (PPV): 0.6000\n",
            "R^2 Score: -0.2047\n",
            "Root Mean Squared Error (RMSE): 0.5222\n",
            "Mean Absolute Error (MAE): 0.2727\n",
            "Median Absolute Error (MdAE): 0.0000\n",
            "----------------------------------------------------\n"
          ]
        },
        {
          "output_type": "stream",
          "name": "stderr",
          "text": [
            "/usr/local/lib/python3.11/dist-packages/sklearn/neural_network/_multilayer_perceptron.py:691: ConvergenceWarning: Stochastic Optimizer: Maximum iterations (1000) reached and the optimization hasn't converged yet.\n",
            "  warnings.warn(\n"
          ]
        },
        {
          "output_type": "execute_result",
          "data": {
            "text/plain": [
              "<pandas.io.formats.style.Styler at 0x7dbc26eb4610>"
            ],
            "text/html": [
              "<style type=\"text/css\">\n",
              "#T_ad31b thead th {\n",
              "  background-color: #4CAF50;\n",
              "  color: white;\n",
              "  font-weight: bold;\n",
              "}\n",
              "#T_ad31b tbody tr:nth-child(odd) {\n",
              "  background-color: #f2f2f2;\n",
              "}\n",
              "#T_ad31b tbody tr:nth-child(even) {\n",
              "  background-color: #ffffff;\n",
              "}\n",
              "#T_ad31b td {\n",
              "  text-align: left;\n",
              "}\n",
              "</style>\n",
              "<table id=\"T_ad31b\" class=\"dataframe\">\n",
              "  <thead>\n",
              "    <tr>\n",
              "      <th id=\"T_ad31b_level0_col0\" class=\"col_heading level0 col0\" >0</th>\n",
              "      <th id=\"T_ad31b_level0_col1\" class=\"col_heading level0 col1\" >1</th>\n",
              "      <th id=\"T_ad31b_level0_col2\" class=\"col_heading level0 col2\" >2</th>\n",
              "      <th id=\"T_ad31b_level0_col3\" class=\"col_heading level0 col3\" >3</th>\n",
              "      <th id=\"T_ad31b_level0_col4\" class=\"col_heading level0 col4\" >4</th>\n",
              "      <th id=\"T_ad31b_level0_col5\" class=\"col_heading level0 col5\" >5</th>\n",
              "    </tr>\n",
              "  </thead>\n",
              "  <tbody>\n",
              "    <tr>\n",
              "      <td id=\"T_ad31b_row0_col0\" class=\"data row0 col0\" >Size</td>\n",
              "      <td id=\"T_ad31b_row0_col1\" class=\"data row0 col1\" >0.2</td>\n",
              "      <td id=\"T_ad31b_row0_col2\" class=\"data row0 col2\" >0.4</td>\n",
              "      <td id=\"T_ad31b_row0_col3\" class=\"data row0 col3\" >0.6</td>\n",
              "      <td id=\"T_ad31b_row0_col4\" class=\"data row0 col4\" >0.8</td>\n",
              "      <td id=\"T_ad31b_row0_col5\" class=\"data row0 col5\" >1.0</td>\n",
              "    </tr>\n",
              "    <tr>\n",
              "      <td id=\"T_ad31b_row1_col0\" class=\"data row1 col0\" >Training Time</td>\n",
              "      <td id=\"T_ad31b_row1_col1\" class=\"data row1 col1\" >0.497074</td>\n",
              "      <td id=\"T_ad31b_row1_col2\" class=\"data row1 col2\" >0.744173</td>\n",
              "      <td id=\"T_ad31b_row1_col3\" class=\"data row1 col3\" >1.010077</td>\n",
              "      <td id=\"T_ad31b_row1_col4\" class=\"data row1 col4\" >1.470372</td>\n",
              "      <td id=\"T_ad31b_row1_col5\" class=\"data row1 col5\" >1.500184</td>\n",
              "    </tr>\n",
              "    <tr>\n",
              "      <td id=\"T_ad31b_row2_col0\" class=\"data row2 col0\" >Testing Time</td>\n",
              "      <td id=\"T_ad31b_row2_col1\" class=\"data row2 col1\" >0.001431</td>\n",
              "      <td id=\"T_ad31b_row2_col2\" class=\"data row2 col2\" >0.000492</td>\n",
              "      <td id=\"T_ad31b_row2_col3\" class=\"data row2 col3\" >0.001350</td>\n",
              "      <td id=\"T_ad31b_row2_col4\" class=\"data row2 col4\" >0.001366</td>\n",
              "      <td id=\"T_ad31b_row2_col5\" class=\"data row2 col5\" >0.001276</td>\n",
              "    </tr>\n",
              "    <tr>\n",
              "      <td id=\"T_ad31b_row3_col0\" class=\"data row3 col0\" >Accuracy</td>\n",
              "      <td id=\"T_ad31b_row3_col1\" class=\"data row3 col1\" >0.738275</td>\n",
              "      <td id=\"T_ad31b_row3_col2\" class=\"data row3 col2\" >0.721519</td>\n",
              "      <td id=\"T_ad31b_row3_col3\" class=\"data row3 col3\" >0.730942</td>\n",
              "      <td id=\"T_ad31b_row3_col4\" class=\"data row3 col4\" >0.760355</td>\n",
              "      <td id=\"T_ad31b_row3_col5\" class=\"data row3 col5\" >0.727273</td>\n",
              "    </tr>\n",
              "    <tr>\n",
              "      <td id=\"T_ad31b_row4_col0\" class=\"data row4 col0\" >Sensitivity</td>\n",
              "      <td id=\"T_ad31b_row4_col1\" class=\"data row4 col1\" >0.657895</td>\n",
              "      <td id=\"T_ad31b_row4_col2\" class=\"data row4 col2\" >0.567708</td>\n",
              "      <td id=\"T_ad31b_row4_col3\" class=\"data row4 col3\" >0.587097</td>\n",
              "      <td id=\"T_ad31b_row4_col4\" class=\"data row4 col4\" >0.710526</td>\n",
              "      <td id=\"T_ad31b_row4_col5\" class=\"data row4 col5\" >0.637500</td>\n",
              "    </tr>\n",
              "    <tr>\n",
              "      <td id=\"T_ad31b_row5_col0\" class=\"data row5 col0\" >Specificity</td>\n",
              "      <td id=\"T_ad31b_row5_col1\" class=\"data row5 col1\" >0.780600</td>\n",
              "      <td id=\"T_ad31b_row5_col2\" class=\"data row5 col2\" >0.803324</td>\n",
              "      <td id=\"T_ad31b_row5_col3\" class=\"data row5 col3\" >0.807560</td>\n",
              "      <td id=\"T_ad31b_row5_col4\" class=\"data row5 col4\" >0.785714</td>\n",
              "      <td id=\"T_ad31b_row5_col5\" class=\"data row5 col5\" >0.774834</td>\n",
              "    </tr>\n",
              "    <tr>\n",
              "      <td id=\"T_ad31b_row6_col0\" class=\"data row6 col0\" >PPV</td>\n",
              "      <td id=\"T_ad31b_row6_col1\" class=\"data row6 col1\" >0.612245</td>\n",
              "      <td id=\"T_ad31b_row6_col2\" class=\"data row6 col2\" >0.605556</td>\n",
              "      <td id=\"T_ad31b_row6_col3\" class=\"data row6 col3\" >0.619048</td>\n",
              "      <td id=\"T_ad31b_row6_col4\" class=\"data row6 col4\" >0.627907</td>\n",
              "      <td id=\"T_ad31b_row6_col5\" class=\"data row6 col5\" >0.600000</td>\n",
              "    </tr>\n",
              "    <tr>\n",
              "      <td id=\"T_ad31b_row7_col0\" class=\"data row7 col0\" >RMSE</td>\n",
              "      <td id=\"T_ad31b_row7_col1\" class=\"data row7 col1\" >0.511590</td>\n",
              "      <td id=\"T_ad31b_row7_col2\" class=\"data row7 col2\" >0.527713</td>\n",
              "      <td id=\"T_ad31b_row7_col3\" class=\"data row7 col3\" >0.518708</td>\n",
              "      <td id=\"T_ad31b_row7_col4\" class=\"data row7 col4\" >0.489535</td>\n",
              "      <td id=\"T_ad31b_row7_col5\" class=\"data row7 col5\" >0.522233</td>\n",
              "    </tr>\n",
              "    <tr>\n",
              "      <td id=\"T_ad31b_row8_col0\" class=\"data row8 col0\" >MAE</td>\n",
              "      <td id=\"T_ad31b_row8_col1\" class=\"data row8 col1\" >0.261725</td>\n",
              "      <td id=\"T_ad31b_row8_col2\" class=\"data row8 col2\" >0.278481</td>\n",
              "      <td id=\"T_ad31b_row8_col3\" class=\"data row8 col3\" >0.269058</td>\n",
              "      <td id=\"T_ad31b_row8_col4\" class=\"data row8 col4\" >0.239645</td>\n",
              "      <td id=\"T_ad31b_row8_col5\" class=\"data row8 col5\" >0.272727</td>\n",
              "    </tr>\n",
              "    <tr>\n",
              "      <td id=\"T_ad31b_row9_col0\" class=\"data row9 col0\" >MdAE</td>\n",
              "      <td id=\"T_ad31b_row9_col1\" class=\"data row9 col1\" >0.000000</td>\n",
              "      <td id=\"T_ad31b_row9_col2\" class=\"data row9 col2\" >0.000000</td>\n",
              "      <td id=\"T_ad31b_row9_col3\" class=\"data row9 col3\" >0.000000</td>\n",
              "      <td id=\"T_ad31b_row9_col4\" class=\"data row9 col4\" >0.000000</td>\n",
              "      <td id=\"T_ad31b_row9_col5\" class=\"data row9 col5\" >0.000000</td>\n",
              "    </tr>\n",
              "    <tr>\n",
              "      <td id=\"T_ad31b_row10_col0\" class=\"data row10 col0\" >R2 Score</td>\n",
              "      <td id=\"T_ad31b_row10_col1\" class=\"data row10 col1\" >-0.158310</td>\n",
              "      <td id=\"T_ad31b_row10_col2\" class=\"data row10 col2\" >-0.228676</td>\n",
              "      <td id=\"T_ad31b_row10_col3\" class=\"data row10 col3\" >-0.186565</td>\n",
              "      <td id=\"T_ad31b_row10_col4\" class=\"data row10 col4\" >-0.072133</td>\n",
              "      <td id=\"T_ad31b_row10_col5\" class=\"data row10 col5\" >-0.204719</td>\n",
              "    </tr>\n",
              "  </tbody>\n",
              "</table>\n"
            ]
          },
          "metadata": {},
          "execution_count": 55
        }
      ]
    }
  ]
}