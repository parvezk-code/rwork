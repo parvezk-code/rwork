{
  "nbformat": 4,
  "nbformat_minor": 0,
  "metadata": {
    "colab": {
      "provenance": []
    },
    "kernelspec": {
      "name": "python3",
      "display_name": "Python 3"
    },
    "language_info": {
      "name": "python"
    }
  },
  "cells": [
    {
      "cell_type": "code",
      "source": [
        "import pandas as pd\n",
        "import numpy as np\n",
        "import sklearn.model_selection as sk_ms\n",
        "import sklearn.linear_model as sk_lm\n",
        "import sklearn.metrics as sk_m\n",
        "import matplotlib.pyplot as plt"
      ],
      "metadata": {
        "id": "Bn3hLiRRq1lC"
      },
      "execution_count": null,
      "outputs": []
    },
    {
      "cell_type": "code",
      "source": [
        "class LinearRegressionModel:\n",
        "    def __init__(self, data):\n",
        "        # Initialize with data and split into X (independent) and Y (dependent)\n",
        "        self.df       =   data\n",
        "        self.X        =   self.df[['X']]\n",
        "        self.Y        =   self.df['Y']\n",
        "        self.X_train  =   None\n",
        "        self.Y_train  =   None\n",
        "        self.X_test   =   None\n",
        "        self.Y_test   =   None\n",
        "        self.Y_pred   =   None\n",
        "        self.lr_model =   sk_lm.LinearRegression()\n",
        "\n",
        "    # Split data into training and test sets\n",
        "    def splitData(self):\n",
        "        self.X_train, self.X_test, self.Y_train, self.Y_test = sk_ms.train_test_split(self.X, self.Y, test_size=0.2, random_state=42)\n",
        "\n",
        "    def fit_line(self):\n",
        "        self.lr_model.fit(self.X_train, self.Y_train)\n",
        "\n",
        "    def predict(self):\n",
        "        self.Y_pred = self.lr_model.predict(self.X_test)\n",
        "\n",
        "    def print_coefficients(self):\n",
        "        \"\"\"Print the model coefficients (intercept and slope).\"\"\"\n",
        "        print(\"Intercept:\", self.lr_model.intercept)\n",
        "        print(\"Coefficient:\", self.lr_model.coef)\n",
        "\n",
        "    def evaluate_model(self):\n",
        "        \"\"\"Evaluate the model performance.\"\"\"\n",
        "        mse = sk_m.mean_squared_error(self.Y_test, self.Y_pred)\n",
        "        r2 = sk_m.r2_score(self.Y_test, self.Y_pred)\n",
        "        print(\"Mean Squared Error:\", mse)\n",
        "        print(\"R-squared:\", r2)\n",
        "\n",
        "    def plot(self):\n",
        "        \"\"\"Plot the data points and the regression line.\"\"\"\n",
        "        plt.scatter(self.X, self.Y, color='blue')  # Data points\n",
        "        y1 = self.lr_model.predict(self.X)\n",
        "        plt.plot(self.X, y1, color='red')  # Regression line\n",
        "        plt.xlabel('X')\n",
        "        plt.ylabel('Y')\n",
        "        plt.title('Linear Regression')\n",
        "        plt.show()\n",
        "\n",
        "    def start(self):\n",
        "      self.splitData()            # create train and test\n",
        "      self.fit_line()             # using X_train, Y_train\n",
        "      self.print_coefficients()   # y = mx + c\n",
        "      self.predict()              # y' = m(x_test) + c\n",
        "      self.evaluate_model()       # mean_sq_error(yte, y'), R_sq(yte, y')\n",
        "      self.plot()"
      ],
      "metadata": {
        "id": "kNKvdI9Cq0gE"
      },
      "execution_count": null,
      "outputs": []
    },
    {
      "cell_type": "markdown",
      "source": [],
      "metadata": {
        "id": "ima1XFs4XGhP"
      }
    },
    {
      "cell_type": "code",
      "source": [
        "dataDic = { 'X': [1, 2, 3, 4, 5, 6, 7, 8, 9, 10],\n",
        "            'Y': [2, 4, 5, 4, 5, 7, 8, 8, 10, 12]}\n",
        "df = pd.DataFrame(dataDic)\n",
        "obj = LinearRegressionModel(df)\n",
        "obj.start()"
      ],
      "metadata": {
        "colab": {
          "base_uri": "https://localhost:8080/",
          "height": 541
        },
        "id": "ESU-ydee82XM",
        "outputId": "3c5bd4bc-9dab-4012-9ce6-eb7300aa30c5"
      },
      "execution_count": null,
      "outputs": [
        {
          "output_type": "stream",
          "name": "stdout",
          "text": [
            "Intercept: 0.7327586206896548\n",
            "Coefficient: [1.02586207]\n",
            "Mean Squared Error: 0.7393356123662308\n",
            "R-squared: 0.9178515986259743\n"
          ]
        },
        {
          "output_type": "display_data",
          "data": {
            "text/plain": [
              "<Figure size 640x480 with 1 Axes>"
            ],
            "image/png": "[encoded data removed]"
          },
          "metadata": {}
        }
      ]
    },
    {
      "cell_type": "markdown",
      "source": [],
      "metadata": {
        "id": "zq1HObWic_j1"
      }
    },
    {
      "cell_type": "code",
      "source": [
        "# To evaluate the accuracy of a linear regression model, common metrics include:\n",
        "          # Mean Absolute Error (MAE),\n",
        "          # Mean Squared Error (MSE),\n",
        "          # R-squared (coefficient of determination),\n",
        "          # Root Mean Squared Error (RMSE),\n",
        "          # Mean Absolute Percentage Error (MAPE).\n",
        "\n",
        "# sklearn.model_selection\n",
        "          # train_test_split()\n",
        "\n",
        "# sklearn.linear_model.LinearRegression()\n",
        "          # fit()\n",
        "          # intercept_  coef_\n",
        "          # predict()\n",
        "\n",
        "# sklearn.metrics\n",
        "          # mean_squared_error()\n",
        "          # r2_score()\n",
        "\n",
        "# matplotlib.pyplot\n",
        "          # scatter\n",
        "          # plot"
      ],
      "metadata": {
        "id": "2nyiN4mndAFt"
      },
      "execution_count": null,
      "outputs": []
    }
  ]
}