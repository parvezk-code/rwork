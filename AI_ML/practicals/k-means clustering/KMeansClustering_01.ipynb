{
  "nbformat": 4,
  "nbformat_minor": 0,
  "metadata": {
    "colab": {
      "provenance": []
    },
    "kernelspec": {
      "name": "python3",
      "display_name": "Python 3"
    },
    "language_info": {
      "name": "python"
    }
  },
  "cells": [
    {
      "cell_type": "code",
      "source": [
        "'''\n",
        "\n",
        "import library\n",
        "\n",
        "evaluate_model\n",
        "\n",
        "evaluate_kmeans\n",
        "\n",
        "getData\n",
        "\n",
        "'''"
      ],
      "metadata": {
        "id": "r24aV7yRLviH"
      },
      "execution_count": null,
      "outputs": []
    },
    {
      "cell_type": "code",
      "source": [
        "import time\n",
        "import numpy as np\n",
        "from sklearn.cluster import KMeans\n",
        "from sklearn.model_selection import train_test_split\n",
        "from sklearn.metrics import accuracy_score, precision_score, recall_score, f1_score, confusion_matrix\n",
        "from sklearn.datasets import make_blobs"
      ],
      "metadata": {
        "id": "ulVRAJy66fai"
      },
      "execution_count": 10,
      "outputs": []
    },
    {
      "cell_type": "code",
      "source": [
        "def evaluate_model(Y_actual, Y_pred):\n",
        "    # Calculate metrics\n",
        "    accuracy            = accuracy_score( Y_actual, Y_pred)\n",
        "    precision           = precision_score(Y_actual, Y_pred, average='weighted')\n",
        "    #recall_sensitivity  = recall_score(   Y_actual, Y_pred, average='weighted')\n",
        "    f1_Score            = f1_score(       Y_actual, Y_pred, average='weighted')\n",
        "\n",
        "    '''\n",
        "    conf_matrix = confusion_matrix(Y_actual, Y_pred)\n",
        "    tn, fp, fn, tp = conf_matrix.ravel()\n",
        "    specificity = tn / (tn + fp)\n",
        "    sensitivity = recall_sensitivity\n",
        "    serendipity = (tp / (tp + fp)) * (tp / (tp + fn))\n",
        "    '''\n",
        "    return(accuracy)"
      ],
      "metadata": {
        "id": "9VzQZtvsGwv5"
      },
      "execution_count": 11,
      "outputs": []
    },
    {
      "cell_type": "code",
      "source": [
        "# Function to evaluate K-Means clustering\n",
        "def evaluate_kmeans(X, y_true, n_clusters):\n",
        "    start_time = time.time()\n",
        "\n",
        "    # Initialize KMeans\n",
        "    kmeans = KMeans(n_clusters=n_clusters, random_state=random_state)\n",
        "\n",
        "    # Fit the model\n",
        "    kmeans.fit(X)\n",
        "\n",
        "    # Predict the clusters\n",
        "    y_pred = kmeans.predict(X)\n",
        "\n",
        "    # Calculate the time taken\n",
        "    time_taken = time.time() - start_time\n",
        "\n",
        "    # Calculate the sum of squared errors (SSE)\n",
        "    sse = kmeans.inertia_\n",
        "\n",
        "    return sse, time_taken, y_pred"
      ],
      "metadata": {
        "id": "EOs6D69J6nFo"
      },
      "execution_count": 12,
      "outputs": []
    },
    {
      "cell_type": "code",
      "source": [
        "# Function to calculate clustering accuracy\n",
        "def getData(n_clusters, random_state):\n",
        "  # Generate synthetic dataset\n",
        "  n_samples = 1500\n",
        "  n_features = 2\n",
        "\n",
        "  return(make_blobs(n_samples=n_samples, n_features=n_features, centers=n_clusters, random_state=random_state))"
      ],
      "metadata": {
        "id": "ITMFNsph8Z6G"
      },
      "execution_count": 13,
      "outputs": []
    },
    {
      "cell_type": "code",
      "source": [
        "from sklearn.datasets import load_breast_cancer\n",
        "from sklearn.preprocessing import StandardScaler\n",
        "def getDiseaseData():\n",
        "\n",
        "  # Load the Breast Cancer dataset\n",
        "  data = load_breast_cancer()\n",
        "  X = data.data  # Features\n",
        "  y_true = data.target  # True labels (0 = malignant, 1 = benign)\n",
        "\n",
        "  # Standardize the features (important for K-Means)\n",
        "  scaler = StandardScaler()\n",
        "  X = scaler.fit_transform(X)\n",
        "  return(X, y_true)\n",
        "\n",
        "a, b = getDiseaseData()\n"
      ],
      "metadata": {
        "id": "6frtIgBTFgJy"
      },
      "execution_count": 14,
      "outputs": []
    },
    {
      "cell_type": "code",
      "source": [
        "n_clusters = 3\n",
        "random_state = 42\n",
        "\n",
        "# X, y_true = getData(n_clusters, random_state)\n",
        "\n",
        "X, y_true = getDiseaseData()\n",
        "\n",
        "# Evaluate K-Means for different dataset sizes\n",
        "dataset_sizes = [0.5, 0.6, 0.7, 0.8, 0.9, 1]\n",
        "results = {}\n",
        "\n",
        "for size in dataset_sizes:\n",
        "    # Split the dataset\n",
        "    X_subset, _, y_subset, _ = train_test_split(X, y_true, train_size=(0.7 * size), random_state=random_state)\n",
        "\n",
        "    # Evaluate K-Means\n",
        "    sse, time_taken, y_pred = evaluate_kmeans(X_subset, y_subset, n_clusters)\n",
        "\n",
        "    accuracy = evaluate_model(y_subset, y_pred)\n",
        "\n",
        "    results[size] = {\n",
        "        'SSE': sse,\n",
        "        'Time Taken': time_taken,\n",
        "        'Accuracy': accuracy,\n",
        "        'Predictions': y_pred\n",
        "    }\n",
        "\n",
        "# Print the results\n",
        "for size, metrics in results.items():\n",
        "    print(f\"Dataset Size: {int(size * 100)}%\")\n",
        "    print(f\"  Sum of Squared Errors (SSE): {metrics['SSE']}\")\n",
        "    print(f\"  Time Taken: {metrics['Time Taken']:.4f} seconds\")\n",
        "    print(f\"  Clustering Accuracy: {metrics['Accuracy']:.4f}\")"
      ],
      "metadata": {
        "colab": {
          "base_uri": "https://localhost:8080/"
        },
        "id": "5NALOAY96fc-",
        "outputId": "56943a17-c3a7-4885-f50e-5b43c5441a61"
      },
      "execution_count": 15,
      "outputs": [
        {
          "output_type": "stream",
          "name": "stdout",
          "text": [
            "Dataset Size: 50%\n",
            "  Sum of Squared Errors (SSE): 3573.4565192822743\n",
            "  Time Taken: 0.0045 seconds\n",
            "  Clustering Accuracy: 0.0603\n",
            "Dataset Size: 60%\n",
            "  Sum of Squared Errors (SSE): 4373.1160094039815\n",
            "  Time Taken: 0.0035 seconds\n",
            "  Clustering Accuracy: 0.6513\n",
            "Dataset Size: 70%\n",
            "  Sum of Squared Errors (SSE): 5038.327061201475\n",
            "  Time Taken: 0.0036 seconds\n",
            "  Clustering Accuracy: 0.0576\n",
            "Dataset Size: 80%\n",
            "  Sum of Squared Errors (SSE): 5884.807559106865\n",
            "  Time Taken: 0.0054 seconds\n",
            "  Clustering Accuracy: 0.1321\n",
            "Dataset Size: 90%\n",
            "  Sum of Squared Errors (SSE): 6806.481803178522\n",
            "  Time Taken: 0.0043 seconds\n",
            "  Clustering Accuracy: 0.8380\n",
            "Dataset Size: 100%\n",
            "  Sum of Squared Errors (SSE): 6943.834610351634\n",
            "  Time Taken: 0.0041 seconds\n",
            "  Clustering Accuracy: 0.7487\n"
          ]
        }
      ]
    }
  ]
}