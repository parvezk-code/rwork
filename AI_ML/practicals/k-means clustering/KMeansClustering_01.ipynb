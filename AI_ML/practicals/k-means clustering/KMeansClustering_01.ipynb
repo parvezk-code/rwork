{
  "nbformat": 4,
  "nbformat_minor": 0,
  "metadata": {
    "colab": {
      "provenance": []
    },
    "kernelspec": {
      "name": "python3",
      "display_name": "Python 3"
    },
    "language_info": {
      "name": "python"
    }
  },
  "cells": [
    {
      "cell_type": "code",
      "source": [
        "'''\n",
        "\n",
        "import library\n",
        "\n",
        "evaluate_model\n",
        "\n",
        "evaluate_kmeans\n",
        "\n",
        "getData\n",
        "\n",
        "'''"
      ],
      "metadata": {
        "id": "r24aV7yRLviH"
      },
      "execution_count": null,
      "outputs": []
    },
    {
      "cell_type": "code",
      "source": [
        "import time\n",
        "import numpy as np\n",
        "import pandas as pd\n",
        "from sklearn.cluster import KMeans\n",
        "from sklearn.model_selection import train_test_split\n",
        "from sklearn.metrics import accuracy_score, precision_score, recall_score, f1_score, confusion_matrix\n",
        "from sklearn.datasets import make_blobs"
      ],
      "metadata": {
        "id": "ulVRAJy66fai"
      },
      "execution_count": null,
      "outputs": []
    },
    {
      "cell_type": "code",
      "source": [
        "def evaluate_model(Y_actual, Y_pred):\n",
        "    # Calculate metrics\n",
        "    accuracy            = accuracy_score( Y_actual, Y_pred)\n",
        "    precision           = precision_score(Y_actual, Y_pred, average='weighted')\n",
        "    #recall_sensitivity  = recall_score(   Y_actual, Y_pred, average='weighted')\n",
        "    f1_Score            = f1_score(       Y_actual, Y_pred, average='weighted')\n",
        "\n",
        "    '''\n",
        "    conf_matrix = confusion_matrix(Y_actual, Y_pred)\n",
        "    tn, fp, fn, tp = conf_matrix.ravel()\n",
        "    specificity = tn / (tn + fp)\n",
        "    sensitivity = recall_sensitivity\n",
        "    serendipity = (tp / (tp + fp)) * (tp / (tp + fn))\n",
        "    '''\n",
        "    return(accuracy)"
      ],
      "metadata": {
        "id": "9VzQZtvsGwv5"
      },
      "execution_count": null,
      "outputs": []
    },
    {
      "cell_type": "code",
      "source": [
        "# Function to evaluate K-Means clustering\n",
        "def evaluate_kmeans(X, y_true, n_clusters):\n",
        "    start_time = time.time()\n",
        "\n",
        "    # Initialize KMeans\n",
        "    kmeans = KMeans(n_clusters=n_clusters, random_state=random_state)\n",
        "\n",
        "    # Fit the model\n",
        "    kmeans.fit(X)\n",
        "\n",
        "    # Predict the clusters\n",
        "    y_pred = kmeans.predict(X)\n",
        "\n",
        "    # Calculate the time taken\n",
        "    time_taken = time.time() - start_time\n",
        "\n",
        "    # Calculate the sum of squared errors (SSE)\n",
        "    sse = kmeans.inertia_\n",
        "\n",
        "    return sse, time_taken, y_pred"
      ],
      "metadata": {
        "id": "EOs6D69J6nFo"
      },
      "execution_count": null,
      "outputs": []
    },
    {
      "cell_type": "code",
      "source": [
        "# Function to calculate clustering accuracy\n",
        "def getData(n_clusters, random_state):\n",
        "  # Generate synthetic dataset\n",
        "  n_samples = 1500\n",
        "  n_features = 2\n",
        "\n",
        "  return(make_blobs(n_samples=n_samples, n_features=n_features, centers=n_clusters, random_state=random_state))"
      ],
      "metadata": {
        "id": "ITMFNsph8Z6G"
      },
      "execution_count": null,
      "outputs": []
    },
    {
      "cell_type": "code",
      "source": [
        "from sklearn.datasets import load_breast_cancer\n",
        "from sklearn.preprocessing import StandardScaler\n",
        "def getDiseaseData():\n",
        "\n",
        "  # Load the Breast Cancer dataset\n",
        "  data = load_breast_cancer()\n",
        "  X = data.data  # Features\n",
        "  y_true = data.target  # True labels (0 = malignant, 1 = benign)\n",
        "\n",
        "  # Standardize the features (important for K-Means)\n",
        "  scaler = StandardScaler()\n",
        "  X = scaler.fit_transform(X)\n",
        "  return(X, y_true)\n"
      ],
      "metadata": {
        "id": "6frtIgBTFgJy"
      },
      "execution_count": null,
      "outputs": []
    },
    {
      "cell_type": "code",
      "source": [
        "def get_table(table, dataset_sizes):\n",
        "    # Return the list results\n",
        "    dataset_sizes = [\"train % -->\"] + dataset_sizes\n",
        "\n",
        "    # Create a pandas DataFrame\n",
        "    df = pd.DataFrame(table, columns=dataset_sizes)\n",
        "\n",
        "    # Use pandas styling for a nice table display\n",
        "    styled_df = df.style.set_table_styles(\n",
        "        [{'selector': 'thead th',\n",
        "          'props': [('background-color', '#4CAF50'),\n",
        "                    ('color', 'white'),\n",
        "                    ('font-weight', 'bold')]},\n",
        "        {'selector': 'tbody tr:nth-child(odd)',\n",
        "          'props': [('background-color', '#f2f2f2')]},\n",
        "        {'selector': 'tbody tr:nth-child(even)',\n",
        "          'props': [('background-color', '#ffffff')]},\n",
        "          {'selector': 'td', 'props': [('text-align', 'left')]}]\n",
        "    )\n",
        "\n",
        "    # Display the table\n",
        "    return(styled_df.hide(axis=\"index\"))"
      ],
      "metadata": {
        "id": "iW9QpDhYW96R"
      },
      "execution_count": null,
      "outputs": []
    },
    {
      "cell_type": "code",
      "source": [
        "n_clusters = 3\n",
        "random_state = 42\n",
        "\n",
        "# X, y_true = getData(n_clusters, random_state)\n",
        "\n",
        "X, y_true = getDiseaseData()\n",
        "\n",
        "# Evaluate K-Means for different dataset sizes\n",
        "dataset_sizes = [\"0.5\", \"0.6\", \"0.7\", \"0.8\", \"0.9\", \"1\"]\n",
        "results = {}\n",
        "\n",
        "table = []\n",
        "table.append(['Sum of Squared Errors'] )\n",
        "table.append(['Clustering Accuracy'] )\n",
        "table.append(['Time Taken'] )\n",
        "\n",
        "for size in dataset_sizes:\n",
        "    # Split the dataset\n",
        "    X_subset, _, y_subset, _ = train_test_split(X, y_true, train_size=(0.7 * float(size)), random_state=random_state)\n",
        "\n",
        "    # Evaluate K-Means\n",
        "    sse, time_taken, y_pred = evaluate_kmeans(X_subset, y_subset, n_clusters)\n",
        "\n",
        "    accuracy = evaluate_model(y_subset, y_pred)\n",
        "\n",
        "    table[0].append(sse)\n",
        "    table[1].append(accuracy)\n",
        "    table[2].append(time_taken)\n",
        "\n",
        "    results[size] = {\n",
        "        'SSE': sse,\n",
        "        'Time Taken': time_taken,\n",
        "        'Accuracy': accuracy,\n",
        "        'Predictions': y_pred\n",
        "    }\n",
        "\n",
        "for size, metrics in results.items():\n",
        "    print(f\"Dataset Size: {int(float(size) * 100)}%\")\n",
        "    print(f\"  Sum of Squared Errors (SSE): {metrics['SSE']}\")\n",
        "    print(f\"  Time Taken: {metrics['Time Taken']:.4f} seconds\")\n",
        "    print(f\"  Clustering Accuracy: {metrics['Accuracy']:.4f}\")\n",
        "\n",
        "get_table(table, dataset_sizes)"
      ],
      "metadata": {
        "colab": {
          "base_uri": "https://localhost:8080/",
          "height": 560
        },
        "id": "5NALOAY96fc-",
        "outputId": "0217d105-0c10-4d23-c0dc-43e035b6510a"
      },
      "execution_count": null,
      "outputs": [
        {
          "output_type": "stream",
          "name": "stdout",
          "text": [
            "Dataset Size: 50%\n",
            "  Sum of Squared Errors (SSE): 3573.4565192822743\n",
            "  Time Taken: 0.0030 seconds\n",
            "  Clustering Accuracy: 0.0603\n",
            "Dataset Size: 60%\n",
            "  Sum of Squared Errors (SSE): 4373.1160094039815\n",
            "  Time Taken: 0.0033 seconds\n",
            "  Clustering Accuracy: 0.6513\n",
            "Dataset Size: 70%\n",
            "  Sum of Squared Errors (SSE): 5038.327061201475\n",
            "  Time Taken: 0.0032 seconds\n",
            "  Clustering Accuracy: 0.0576\n",
            "Dataset Size: 80%\n",
            "  Sum of Squared Errors (SSE): 5884.807559106865\n",
            "  Time Taken: 0.0041 seconds\n",
            "  Clustering Accuracy: 0.1321\n",
            "Dataset Size: 90%\n",
            "  Sum of Squared Errors (SSE): 6806.481803178522\n",
            "  Time Taken: 0.0112 seconds\n",
            "  Clustering Accuracy: 0.8380\n",
            "Dataset Size: 100%\n",
            "  Sum of Squared Errors (SSE): 6943.834610351634\n",
            "  Time Taken: 0.0100 seconds\n",
            "  Clustering Accuracy: 0.7487\n"
          ]
        },
        {
          "output_type": "execute_result",
          "data": {
            "text/plain": [
              "<pandas.io.formats.style.Styler at 0x7f237474f810>"
            ],
            "text/html": [
              "<style type=\"text/css\">\n",
              "#T_677f7 thead th {\n",
              "  background-color: #4CAF50;\n",
              "  color: white;\n",
              "  font-weight: bold;\n",
              "}\n",
              "#T_677f7 tbody tr:nth-child(odd) {\n",
              "  background-color: #f2f2f2;\n",
              "}\n",
              "#T_677f7 tbody tr:nth-child(even) {\n",
              "  background-color: #ffffff;\n",
              "}\n",
              "#T_677f7 td {\n",
              "  text-align: left;\n",
              "}\n",
              "</style>\n",
              "<table id=\"T_677f7\" class=\"dataframe\">\n",
              "  <thead>\n",
              "    <tr>\n",
              "      <th id=\"T_677f7_level0_col0\" class=\"col_heading level0 col0\" >train % --></th>\n",
              "      <th id=\"T_677f7_level0_col1\" class=\"col_heading level0 col1\" >0.5</th>\n",
              "      <th id=\"T_677f7_level0_col2\" class=\"col_heading level0 col2\" >0.6</th>\n",
              "      <th id=\"T_677f7_level0_col3\" class=\"col_heading level0 col3\" >0.7</th>\n",
              "      <th id=\"T_677f7_level0_col4\" class=\"col_heading level0 col4\" >0.8</th>\n",
              "      <th id=\"T_677f7_level0_col5\" class=\"col_heading level0 col5\" >0.9</th>\n",
              "      <th id=\"T_677f7_level0_col6\" class=\"col_heading level0 col6\" >1</th>\n",
              "    </tr>\n",
              "  </thead>\n",
              "  <tbody>\n",
              "    <tr>\n",
              "      <td id=\"T_677f7_row0_col0\" class=\"data row0 col0\" >Sum of Squared Errors</td>\n",
              "      <td id=\"T_677f7_row0_col1\" class=\"data row0 col1\" >3573.456519</td>\n",
              "      <td id=\"T_677f7_row0_col2\" class=\"data row0 col2\" >4373.116009</td>\n",
              "      <td id=\"T_677f7_row0_col3\" class=\"data row0 col3\" >5038.327061</td>\n",
              "      <td id=\"T_677f7_row0_col4\" class=\"data row0 col4\" >5884.807559</td>\n",
              "      <td id=\"T_677f7_row0_col5\" class=\"data row0 col5\" >6806.481803</td>\n",
              "      <td id=\"T_677f7_row0_col6\" class=\"data row0 col6\" >6943.834610</td>\n",
              "    </tr>\n",
              "    <tr>\n",
              "      <td id=\"T_677f7_row1_col0\" class=\"data row1 col0\" >Clustering Accuracy</td>\n",
              "      <td id=\"T_677f7_row1_col1\" class=\"data row1 col1\" >0.060302</td>\n",
              "      <td id=\"T_677f7_row1_col2\" class=\"data row1 col2\" >0.651261</td>\n",
              "      <td id=\"T_677f7_row1_col3\" class=\"data row1 col3\" >0.057554</td>\n",
              "      <td id=\"T_677f7_row1_col4\" class=\"data row1 col4\" >0.132075</td>\n",
              "      <td id=\"T_677f7_row1_col5\" class=\"data row1 col5\" >0.837989</td>\n",
              "      <td id=\"T_677f7_row1_col6\" class=\"data row1 col6\" >0.748744</td>\n",
              "    </tr>\n",
              "    <tr>\n",
              "      <td id=\"T_677f7_row2_col0\" class=\"data row2 col0\" >Time Taken</td>\n",
              "      <td id=\"T_677f7_row2_col1\" class=\"data row2 col1\" >0.003020</td>\n",
              "      <td id=\"T_677f7_row2_col2\" class=\"data row2 col2\" >0.003256</td>\n",
              "      <td id=\"T_677f7_row2_col3\" class=\"data row2 col3\" >0.003158</td>\n",
              "      <td id=\"T_677f7_row2_col4\" class=\"data row2 col4\" >0.004094</td>\n",
              "      <td id=\"T_677f7_row2_col5\" class=\"data row2 col5\" >0.011159</td>\n",
              "      <td id=\"T_677f7_row2_col6\" class=\"data row2 col6\" >0.010032</td>\n",
              "    </tr>\n",
              "  </tbody>\n",
              "</table>\n"
            ]
          },
          "metadata": {},
          "execution_count": 17
        }
      ]
    }
  ]
}