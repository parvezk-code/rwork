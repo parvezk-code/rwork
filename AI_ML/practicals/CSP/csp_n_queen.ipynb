{
  "nbformat": 4,
  "nbformat_minor": 0,
  "metadata": {
    "colab": {
      "provenance": []
    },
    "kernelspec": {
      "name": "python3",
      "display_name": "Python 3"
    },
    "language_info": {
      "name": "python"
    }
  },
  "cells": [
    {
      "cell_type": "code",
      "execution_count": 1,
      "metadata": {
        "id": "RWf9gjScq4UM"
      },
      "outputs": [],
      "source": [
        "class NQueen:\n",
        "    def __init__(self, n):\n",
        "        #self.solution = {row:0 for row in range(1,9)}\n",
        "        self.solution           =   [-1 for row in range(1, n+1)]\n",
        "        self.occupiedColumns    =   set()\n",
        "        self.occupiedPDiagonals  =   set()\n",
        "        self.occupiedSDiagonals  =   set()\n",
        "        self.maxRowIndex        =   n-1\n",
        "        self.maxColIndex        =   n-1\n",
        "        self.minRowIndex        =   0\n",
        "        self.minColIndex        =   0\n",
        "\n",
        "    def getDiagonals(self, row, col):\n",
        "      return (row - col, row + col - 1)\n",
        "\n",
        "    # constraint-1 : different column\n",
        "    def isSameColumn(self, currentCol):\n",
        "        if currentCol in self.occupiedColumns:\n",
        "            return True\n",
        "        return False\n",
        "\n",
        "    # constraint-2 : different diagonal\n",
        "    def isSameDiagonal(self, currentRow, currentCol):\n",
        "        d1, d2 = self.getDiagonals(currentRow, currentCol)\n",
        "        if d1 in self.occupiedPDiagonals:\n",
        "            return True\n",
        "        elif d2 in self.occupiedSDiagonals:\n",
        "            return True\n",
        "        else:\n",
        "          return False\n",
        "\n",
        "    # check all constraints\n",
        "    def checkConstraints(self, r, c):\n",
        "        if self.isSameColumn(c):\n",
        "            return False\n",
        "        elif self.isSameDiagonal(r, c):\n",
        "            return False\n",
        "        else:\n",
        "            return True\n",
        "\n",
        "\n",
        "    # move to next state\n",
        "    def getNextPosition(self, currentRow):\n",
        "      nextAvailableColPosition  =   self.solution[currentRow] + 1\n",
        "\n",
        "      while(nextAvailableColPosition<=self.maxColIndex):\n",
        "        if(self.checkConstraints(currentRow, nextAvailableColPosition)):\n",
        "          return nextAvailableColPosition\n",
        "        else:\n",
        "          nextAvailableColPosition += 1\n",
        "\n",
        "      return -1\n",
        "\n",
        "    def saveSolution(self, row, col):\n",
        "      self.solution[row] = col\n",
        "      d1, d2 = self.getDiagonals(row, col)\n",
        "      self.occupiedColumns.add(col)\n",
        "      self.occupiedPDiagonals.add(d1)\n",
        "      self.occupiedSDiagonals.add(d2)\n",
        "\n",
        "    def backTrack(self, rowIndex):\n",
        "      d1, d2 = self.getDiagonals(rowIndex, self.solution[rowIndex])\n",
        "      self.solution[rowIndex+1] = -1\n",
        "      self.occupiedColumns.remove(self.solution[rowIndex])\n",
        "      self.occupiedPDiagonals.remove(d1)\n",
        "      self.occupiedSDiagonals.remove(d2)\n",
        "\n",
        "\n",
        "    def solve(self):\n",
        "      currentRowIndex = 0;\n",
        "      while(self.solution[0] <= self.maxColIndex):\n",
        "        nextAvailableColPosition = self.getNextPosition(currentRowIndex)\n",
        "        if(nextAvailableColPosition==-1 and currentRowIndex!=0):\n",
        "          currentRowIndex -= 1\n",
        "          self.backTrack(currentRowIndex)\n",
        "        elif(nextAvailableColPosition==-1):\n",
        "          return False\n",
        "        elif(currentRowIndex == self.maxRowIndex):\n",
        "          self.saveSolution(currentRowIndex, nextAvailableColPosition)\n",
        "          return True\n",
        "        else:\n",
        "          self.saveSolution(currentRowIndex, nextAvailableColPosition)\n",
        "          currentRowIndex += 1\n",
        "\n",
        "      return False"
      ]
    },
    {
      "cell_type": "code",
      "source": [
        "ob = NQueen(7)\n",
        "print(ob.solve())\n",
        "print(ob.solution)"
      ],
      "metadata": {
        "colab": {
          "base_uri": "https://localhost:8080/"
        },
        "id": "Rfx6Mbc0rtiU",
        "outputId": "536683fa-231d-4b52-f2fa-c2bf823e29b4"
      },
      "execution_count": 6,
      "outputs": [
        {
          "output_type": "stream",
          "name": "stdout",
          "text": [
            "True\n",
            "[0, 2, 4, 6, 1, 3, 5]\n"
          ]
        }
      ]
    }
  ]
}