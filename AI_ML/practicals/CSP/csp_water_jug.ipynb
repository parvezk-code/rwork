{
  "nbformat": 4,
  "nbformat_minor": 0,
  "metadata": {
    "colab": {
      "provenance": []
    },
    "kernelspec": {
      "name": "python3",
      "display_name": "Python 3"
    },
    "language_info": {
      "name": "python"
    }
  },
  "cells": [
    {
      "cell_type": "code",
      "source": [
        "from collections import deque\n",
        "\n",
        "class WaterJugProblem:\n",
        "    def __init__(self, capacity_1:int, capacity_2:int, goal:tuple, start=(0,0)):\n",
        "        self.X              =   capacity_1\n",
        "        self.Y              =   capacity_2\n",
        "        self.goal           =   goal\n",
        "        self.tree           =   {start:{'parent':None, 'children':[]}}\n",
        "        self.queue          =   deque([start])\n",
        "\n",
        "    def isVisited(self, state:tuple):\n",
        "        return state in self.tree\n",
        "\n",
        "    def addChild(self, parent:tuple, child:tuple):\n",
        "        if not self.isVisited(child):\n",
        "          self.tree[child] = {'parent':parent, 'children':[]}\n",
        "          self.tree[parent]['children'].append(child)\n",
        "          self.queue.append(child)\n",
        "          if child == self.goal:\n",
        "            return True\n",
        "        return False\n",
        "\n",
        "    # operation-1\n",
        "    def fill_X(self, state:tuple):\n",
        "        x, y        =   state\n",
        "        new_state   =   (self.X, y)\n",
        "        return(self.addChild(state, new_state))\n",
        "\n",
        "    # operation-2\n",
        "    def fill_Y(self, state:tuple):\n",
        "        x, y        =   state\n",
        "        new_state   =   (x, self.Y)\n",
        "        return(self.addChild(state, new_state))\n",
        "\n",
        "    # operation-3\n",
        "    def empty_X(self, state:tuple):\n",
        "        x, y        =   state\n",
        "        new_state   =   (0, y)\n",
        "        return(self.addChild(state, new_state))\n",
        "\n",
        "    # operation-4\n",
        "    def empty_Y(self, state:tuple):\n",
        "        x, y        =   state\n",
        "        new_state   =   (x, 0)\n",
        "        return(self.addChild(state, new_state))\n",
        "\n",
        "    def transfer_X_to_Y(self, state:tuple):\n",
        "        x, y        =   state\n",
        "        amount      =   min(x, self.Y-y)\n",
        "        new_state   =   (x-amount, y+amount)\n",
        "        return(self.addChild(state, new_state))\n",
        "\n",
        "    def transfer_Y_to_X(self, state:tuple):\n",
        "        x, y        =   state\n",
        "        amount      =   min(y, self.X-x)\n",
        "        new_state   =   (x+amount, y-amount)\n",
        "        return(self.addChild(state, new_state))\n",
        "\n",
        "    def generateNeighbours(self, state:tuple):\n",
        "        if self.fill_X(state):\n",
        "            return True\n",
        "        elif self.fill_Y(state):\n",
        "            return True\n",
        "        elif self.empty_X(state):\n",
        "            return True\n",
        "        elif self.empty_Y(state):\n",
        "            return True\n",
        "        elif self.transfer_X_to_Y(state):\n",
        "            return True\n",
        "        elif self.transfer_Y_to_X(state):\n",
        "            return True\n",
        "        else:\n",
        "          return False\n",
        "\n",
        "    def generatePath(self):\n",
        "        path = []\n",
        "        current_state = self.goal\n",
        "        while current_state is not None:\n",
        "            path.append(current_state)\n",
        "            current_state = self.tree[current_state]['parent']\n",
        "        return path[::-1]\n",
        "\n",
        "    def start(self):\n",
        "        while self.queue:\n",
        "            current_state = self.queue.popleft()\n",
        "            status = self.generateNeighbours(current_state)\n",
        "            if status:\n",
        "                print(self.generatePath())\n",
        "                return status\n",
        "        print(\"No solution found\")\n",
        "        #print(self.tree)\n",
        "        return False"
      ],
      "metadata": {
        "id": "RtxplqYwU_VW"
      },
      "execution_count": 4,
      "outputs": []
    },
    {
      "cell_type": "code",
      "source": [
        "\n",
        "#obj = WaterJugProblem(4,3,(2,0))\n",
        "Y = 5\n",
        "X = 3\n",
        "goal=(2,0)\n",
        "obj = WaterJugProblem(Y,X,goal)\n",
        "print(obj.start())"
      ],
      "metadata": {
        "colab": {
          "base_uri": "https://localhost:8080/"
        },
        "id": "CwMS7UxuUGIn",
        "outputId": "795e8799-f90b-416d-f089-f299cc3a4946"
      },
      "execution_count": 5,
      "outputs": [
        {
          "output_type": "stream",
          "name": "stdout",
          "text": [
            "[(0, 0), (5, 0), (2, 3), (2, 0)]\n",
            "True\n"
          ]
        }
      ]
    }
  ]
}