{
  "nbformat": 4,
  "nbformat_minor": 0,
  "metadata": {
    "colab": {
      "provenance": []
    },
    "kernelspec": {
      "name": "python3",
      "display_name": "Python 3"
    },
    "language_info": {
      "name": "python"
    }
  },
  "cells": [
    {
      "cell_type": "code",
      "execution_count": null,
      "metadata": {
        "id": "0RyUj-G0T27Y"
      },
      "outputs": [],
      "source": [
        "class MapColoring:\n",
        "    def __init__(self, adjacency_list:dict, colors:list):\n",
        "        self.graph = adjacency_list\n",
        "        self.colors_list = colors\n",
        "        self.solution = {item: -1 for index, item in enumerate(adjacency_list)}\n",
        "\n",
        "    # constraint-1\n",
        "    def checkConstraints(self, region, color_index):\n",
        "        for neighbor in self.graph.get(region, []):\n",
        "            if self.solution[neighbor] == color_index:\n",
        "                return False\n",
        "        return True\n",
        "\n",
        "    # getNextPosition: move to next state\n",
        "    def getNextAvailableColor(self, region):\n",
        "      nextAvailableColor  =   self.solution[region] + 1\n",
        "      total_colors        =   len(self.colors_list)\n",
        "\n",
        "      while(nextAvailableColor<total_colors):\n",
        "          if(self.checkConstraints(region, nextAvailableColor)):\n",
        "            return(nextAvailableColor)\n",
        "          nextAvailableColor += 1\n",
        "\n",
        "      return(-1)\n",
        "\n",
        "    def saveSolution(self, region, color):\n",
        "      self.solution[region] = color\n",
        "\n",
        "    def backtrack(self, currentRegion):\n",
        "      self.solution[currentRegion]  = -1\n",
        "\n",
        "    def convertIndexToColorNames(self):\n",
        "      for key in self.solution:\n",
        "        if(self.solution[key] != -1):\n",
        "          self.solution[key] = self.colors_list[self.solution[key]]\n",
        "        else:\n",
        "            self.solution[key] = 'No color'\n",
        "\n",
        "\n",
        "    def solve(self):\n",
        "\n",
        "      total_colors        =   len(self.colors_list)\n",
        "      total_regions       =   len(self.graph)\n",
        "      list_of_regions     =   [key for key in self.graph]\n",
        "      currentRegionIndex  =   1\n",
        "      first_reg           =   list_of_regions[0]\n",
        "      second_reg          =   list_of_regions[1]\n",
        "      self.solution[first_reg]    =   0\n",
        "\n",
        "      while(self.solution[second_reg] < total_colors):\n",
        "        currentRegion   =  list_of_regions[currentRegionIndex]\n",
        "        color         =   self.getNextAvailableColor(currentRegion)\n",
        "\n",
        "        if(color==-1):\n",
        "            self.backtrack(currentRegion)\n",
        "            currentRegionIndex -= 1\n",
        "        elif(currentRegionIndex == total_regions-1):\n",
        "            self.saveSolution(currentRegion, color)\n",
        "            return True\n",
        "        else:\n",
        "          self.saveSolution(currentRegion, color)\n",
        "          currentRegionIndex += 1\n",
        "\n",
        "      return False\n",
        "\n",
        "\n",
        "\n",
        "\n"
      ]
    },
    {
      "cell_type": "code",
      "source": [
        "\n",
        "adjacency_list = {\n",
        "        'A': ['B', 'C', 'D'],\n",
        "        'B': ['A', 'C', 'E'],\n",
        "        'C': ['A', 'B', 'D', 'E'],\n",
        "        'D': ['A', 'C', 'E'],\n",
        "        'E': ['B', 'C', 'D'],\n",
        "}\n",
        "\n",
        "colors = ['Red', 'Green', 'Blue']\n",
        "#colors = ['Red', 'Green']\n",
        "\n",
        "map_coloring = MapColoring(adjacency_list, colors)\n",
        "print(map_coloring.solve())\n",
        "map_coloring.convertIndexToColorNames()\n",
        "print(map_coloring.solution)"
      ],
      "metadata": {
        "colab": {
          "base_uri": "https://localhost:8080/"
        },
        "id": "hrANuqSveYWu",
        "outputId": "71a56737-778a-4502-cd2d-069909d173fc"
      },
      "execution_count": null,
      "outputs": [
        {
          "output_type": "stream",
          "name": "stdout",
          "text": [
            "True\n",
            "{'A': 'Red', 'B': 'Green', 'C': 'Blue', 'D': 'Green', 'E': 'Red'}\n"
          ]
        }
      ]
    },
    {
      "cell_type": "markdown",
      "source": [
        "\n",
        "1.   constraints\n",
        "2.   checkConstraints\n",
        "1.   getNextPosition\n",
        "1.   saveSolution\n",
        "1.   backtrack\n",
        "2.   solve(no solution, goal state, intermediate state)"
      ],
      "metadata": {
        "id": "X6FKqWbUMu3Z"
      }
    },
    {
      "cell_type": "markdown",
      "source": [
        "Magic 3x3 square, each row/col/dig sum is 15\n",
        "Map coloring\n",
        "suduku\n",
        "\n",
        "A magic square contains the integers from 1 to n^2. Sum is = n(n^2+1)/2\n",
        "\n",
        "https://courses.cs.umbc.edu/671/fall12/notes/06/csp_python.ppt.pdf\n",
        "\n",
        "https://www.geeksforgeeks.org/constraint-satisfaction-problems-csp-in-artificial-intelligence/\n",
        "\n",
        "https://www.javatpoint.com/constraint-satisfaction-problems-in-artificial-intelligence\n",
        "\n",
        "https://www.appliedaicourse.com/blog/constraint-satisfaction-problems-csp-in-artificial-intelligence/"
      ],
      "metadata": {
        "id": "f3CkUi1YT7LC"
      }
    }
  ]
}